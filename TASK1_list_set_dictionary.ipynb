{
 "cells": [
  {
   "cell_type": "code",
   "execution_count": 14,
   "id": "a723ce35-d3a6-492b-9c09-db18ea7b2166",
   "metadata": {},
   "outputs": [
    {
     "name": "stdout",
     "output_type": "stream",
     "text": [
      "List :  ['python', 'java', 'c']\n",
      "after appending :  ['python', 'java', 'c', 'c++']\n",
      "after modification :  ['python', 'java', 'ruby', 'c++']\n",
      "after removing :  ['python', 'ruby', 'c++']\n"
     ]
    }
   ],
   "source": [
    "#list\n",
    "languages=[\"python\",\"java\",\"c\"] #creation\n",
    "print(\"List : \",languages)\n",
    "languages.append(\"c++\") #addition\n",
    "print(\"after appending : \",languages)\n",
    "languages[2]=\"ruby\" #modification\n",
    "print(\"after modification : \",languages)\n",
    "languages.remove(\"java\") #deletion\n",
    "print(\"after removing : \",languages)"
   ]
  },
  {
   "cell_type": "code",
   "execution_count": 16,
   "id": "20de07fd-268b-49d1-9190-32d7d678b9a3",
   "metadata": {
    "scrolled": true
   },
   "outputs": [
    {
     "name": "stdout",
     "output_type": "stream",
     "text": [
      "set :  {'artificial intelligence', 'web development', 'data science', 'java programming'}\n",
      "after appending :  {'artificial intelligence', 'machine learning', 'data science', 'java programming', 'web development'}\n",
      "after modification :  {'artificial intelligence', 'machine learning', 'data science', 'web development'}\n",
      "after removing :  {'artificial intelligence', 'machine learning', 'data science'}\n"
     ]
    }
   ],
   "source": [
    "#set\n",
    "domains={\"data science\",\"web development\",\"artificial intelligence\",\"java programming\"} #creation\n",
    "print(\"set : \",domains)\n",
    "domains.add(\"machine learning\") #addition\n",
    "print(\"after appending : \",domains)\n",
    "domains.discard(\"java programming\") #modification\n",
    "print(\"after modification : \",domains)\n",
    "domains.remove(\"web development\") #deletion\n",
    "print(\"after removing : \",domains)"
   ]
  },
  {
   "cell_type": "code",
   "execution_count": 18,
   "id": "4471d2ae-b40c-488a-a17d-f01edd275c23",
   "metadata": {},
   "outputs": [
    {
     "name": "stdout",
     "output_type": "stream",
     "text": [
      "dictionary :  {'data science': 'python', 'web development': 'django', 'artificial intelligence': 'python'}\n",
      "after addition :  {'data science': 'python', 'web development': 'django', 'artificial intelligence': 'python', 'software development': 'java'}\n",
      "after modification {'data science': 'python', 'web development': 'react/nodejs', 'artificial intelligence': 'python', 'software development': 'java'}\n",
      "after deletion {'data science': 'python', 'web development': 'react/nodejs', 'artificial intelligence': 'python'}\n"
     ]
    }
   ],
   "source": [
    "#dictionary\n",
    "lang_with_domains={\"data science\":\"python\",\"web development\":\"django\",\"artificial intelligence\":\"python\"} #creation\n",
    "print(\"dictionary : \",lang_with_domains)\n",
    "lang_with_domains[\"software development\"]=\"java\" #addition\n",
    "print(\"after addition : \",lang_with_domains)\n",
    "lang_with_domains[\"web development\"]=\"react/nodejs\" #modification\n",
    "print(\"after modification\",lang_with_domains)\n",
    "lang_with_domains.pop(\"software development\")\n",
    "print(\"after deletion\",lang_with_domains)"
   ]
  }
 ],
 "metadata": {
  "kernelspec": {
   "display_name": "Python 3 (ipykernel)",
   "language": "python",
   "name": "python3"
  },
  "language_info": {
   "codemirror_mode": {
    "name": "ipython",
    "version": 3
   },
   "file_extension": ".py",
   "mimetype": "text/x-python",
   "name": "python",
   "nbconvert_exporter": "python",
   "pygments_lexer": "ipython3",
   "version": "3.12.4"
  }
 },
 "nbformat": 4,
 "nbformat_minor": 5
}
